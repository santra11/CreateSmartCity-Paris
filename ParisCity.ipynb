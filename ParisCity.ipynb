{
 "cells": [
  {
   "cell_type": "markdown",
   "id": "510d20a2",
   "metadata": {},
   "source": [
    "OVERVIEW:\n",
    "\n",
    "In this tutorial notebook, we will optimize of the maintenance of trees in the city of Paris. We will  analyze the height of trees in the city and their distribution by district and by tree species.\n",
    "\n",
    "Steps are:\n",
    "- We will work with \"arbes-fr.csv\" dataset\n",
    "- We will perform EDA\n",
    "- The maximum height of the trees in Paris is 62.5m.\n",
    "- The maximum  circumference in Paris is 1300 cm.\n",
    "\n",
    "- Finally we will use the folium module to detect the location of trees of different spicies in Paris."
   ]
  },
  {
   "cell_type": "code",
   "execution_count": 1,
   "id": "c6341225",
   "metadata": {},
   "outputs": [],
   "source": [
    "import numpy as np\n",
    "import pandas as pd\n",
    "import matplotlib.pyplot as plt\n",
    "import seaborn as sns\n",
    "import folium\n",
    "\n",
    "%matplotlib inline"
   ]
  },
  {
   "cell_type": "code",
   "execution_count": 2,
   "id": "ed88901c",
   "metadata": {
    "scrolled": true
   },
   "outputs": [
    {
     "data": {
      "text/html": [
       "<div>\n",
       "<style scoped>\n",
       "    .dataframe tbody tr th:only-of-type {\n",
       "        vertical-align: middle;\n",
       "    }\n",
       "\n",
       "    .dataframe tbody tr th {\n",
       "        vertical-align: top;\n",
       "    }\n",
       "\n",
       "    .dataframe thead th {\n",
       "        text-align: right;\n",
       "    }\n",
       "</style>\n",
       "<table border=\"1\" class=\"dataframe\">\n",
       "  <thead>\n",
       "    <tr style=\"text-align: right;\">\n",
       "      <th></th>\n",
       "      <th>id</th>\n",
       "      <th>type_emplacement</th>\n",
       "      <th>domanialite</th>\n",
       "      <th>arrondissement</th>\n",
       "      <th>complement_addresse</th>\n",
       "      <th>numero</th>\n",
       "      <th>lieu</th>\n",
       "      <th>id_emplacement</th>\n",
       "      <th>libelle_francais</th>\n",
       "      <th>genre</th>\n",
       "      <th>espece</th>\n",
       "      <th>variete</th>\n",
       "      <th>circonference_cm</th>\n",
       "      <th>hauteur_m</th>\n",
       "      <th>stade_developpement</th>\n",
       "      <th>remarquable</th>\n",
       "      <th>geo_point_2d_a</th>\n",
       "      <th>geo_point_2d_b</th>\n",
       "    </tr>\n",
       "  </thead>\n",
       "  <tbody>\n",
       "    <tr>\n",
       "      <th>0</th>\n",
       "      <td>99874</td>\n",
       "      <td>Arbre</td>\n",
       "      <td>Jardin</td>\n",
       "      <td>PARIS 7E ARRDT</td>\n",
       "      <td>NaN</td>\n",
       "      <td>NaN</td>\n",
       "      <td>MAIRIE DU 7E 116 RUE DE GRENELLE PARIS 7E</td>\n",
       "      <td>19</td>\n",
       "      <td>Marronnier</td>\n",
       "      <td>Aesculus</td>\n",
       "      <td>hippocastanum</td>\n",
       "      <td>NaN</td>\n",
       "      <td>20</td>\n",
       "      <td>5</td>\n",
       "      <td>NaN</td>\n",
       "      <td>0.0</td>\n",
       "      <td>48.857620</td>\n",
       "      <td>2.320962</td>\n",
       "    </tr>\n",
       "    <tr>\n",
       "      <th>1</th>\n",
       "      <td>99875</td>\n",
       "      <td>Arbre</td>\n",
       "      <td>Jardin</td>\n",
       "      <td>PARIS 7E ARRDT</td>\n",
       "      <td>NaN</td>\n",
       "      <td>NaN</td>\n",
       "      <td>MAIRIE DU 7E 116 RUE DE GRENELLE PARIS 7E</td>\n",
       "      <td>20</td>\n",
       "      <td>If</td>\n",
       "      <td>Taxus</td>\n",
       "      <td>baccata</td>\n",
       "      <td>NaN</td>\n",
       "      <td>65</td>\n",
       "      <td>8</td>\n",
       "      <td>A</td>\n",
       "      <td>NaN</td>\n",
       "      <td>48.857656</td>\n",
       "      <td>2.321031</td>\n",
       "    </tr>\n",
       "    <tr>\n",
       "      <th>2</th>\n",
       "      <td>99876</td>\n",
       "      <td>Arbre</td>\n",
       "      <td>Jardin</td>\n",
       "      <td>PARIS 7E ARRDT</td>\n",
       "      <td>NaN</td>\n",
       "      <td>NaN</td>\n",
       "      <td>MAIRIE DU 7E 116 RUE DE GRENELLE PARIS 7E</td>\n",
       "      <td>21</td>\n",
       "      <td>If</td>\n",
       "      <td>Taxus</td>\n",
       "      <td>baccata</td>\n",
       "      <td>NaN</td>\n",
       "      <td>90</td>\n",
       "      <td>10</td>\n",
       "      <td>A</td>\n",
       "      <td>NaN</td>\n",
       "      <td>48.857705</td>\n",
       "      <td>2.321061</td>\n",
       "    </tr>\n",
       "    <tr>\n",
       "      <th>3</th>\n",
       "      <td>99877</td>\n",
       "      <td>Arbre</td>\n",
       "      <td>Jardin</td>\n",
       "      <td>PARIS 7E ARRDT</td>\n",
       "      <td>NaN</td>\n",
       "      <td>NaN</td>\n",
       "      <td>MAIRIE DU 7E 116 RUE DE GRENELLE PARIS 7E</td>\n",
       "      <td>22</td>\n",
       "      <td>Erable</td>\n",
       "      <td>Acer</td>\n",
       "      <td>negundo</td>\n",
       "      <td>NaN</td>\n",
       "      <td>60</td>\n",
       "      <td>8</td>\n",
       "      <td>A</td>\n",
       "      <td>NaN</td>\n",
       "      <td>48.857722</td>\n",
       "      <td>2.321006</td>\n",
       "    </tr>\n",
       "    <tr>\n",
       "      <th>4</th>\n",
       "      <td>99878</td>\n",
       "      <td>Arbre</td>\n",
       "      <td>Jardin</td>\n",
       "      <td>PARIS 17E ARRDT</td>\n",
       "      <td>NaN</td>\n",
       "      <td>NaN</td>\n",
       "      <td>PARC CLICHY-BATIGNOLLES-MARTIN LUTHER KING</td>\n",
       "      <td>000G0037</td>\n",
       "      <td>Arbre à miel</td>\n",
       "      <td>Tetradium</td>\n",
       "      <td>daniellii</td>\n",
       "      <td>NaN</td>\n",
       "      <td>38</td>\n",
       "      <td>0</td>\n",
       "      <td>NaN</td>\n",
       "      <td>NaN</td>\n",
       "      <td>48.890435</td>\n",
       "      <td>2.315289</td>\n",
       "    </tr>\n",
       "  </tbody>\n",
       "</table>\n",
       "</div>"
      ],
      "text/plain": [
       "      id type_emplacement domanialite   arrondissement complement_addresse  \\\n",
       "0  99874            Arbre      Jardin   PARIS 7E ARRDT                 NaN   \n",
       "1  99875            Arbre      Jardin   PARIS 7E ARRDT                 NaN   \n",
       "2  99876            Arbre      Jardin   PARIS 7E ARRDT                 NaN   \n",
       "3  99877            Arbre      Jardin   PARIS 7E ARRDT                 NaN   \n",
       "4  99878            Arbre      Jardin  PARIS 17E ARRDT                 NaN   \n",
       "\n",
       "   numero                                        lieu id_emplacement  \\\n",
       "0     NaN   MAIRIE DU 7E 116 RUE DE GRENELLE PARIS 7E             19   \n",
       "1     NaN   MAIRIE DU 7E 116 RUE DE GRENELLE PARIS 7E             20   \n",
       "2     NaN   MAIRIE DU 7E 116 RUE DE GRENELLE PARIS 7E             21   \n",
       "3     NaN   MAIRIE DU 7E 116 RUE DE GRENELLE PARIS 7E             22   \n",
       "4     NaN  PARC CLICHY-BATIGNOLLES-MARTIN LUTHER KING       000G0037   \n",
       "\n",
       "  libelle_francais      genre         espece variete  circonference_cm  \\\n",
       "0       Marronnier   Aesculus  hippocastanum     NaN                20   \n",
       "1               If      Taxus        baccata     NaN                65   \n",
       "2               If      Taxus        baccata     NaN                90   \n",
       "3           Erable       Acer        negundo     NaN                60   \n",
       "4     Arbre à miel  Tetradium      daniellii     NaN                38   \n",
       "\n",
       "   hauteur_m stade_developpement  remarquable  geo_point_2d_a  geo_point_2d_b  \n",
       "0          5                 NaN          0.0       48.857620        2.320962  \n",
       "1          8                   A          NaN       48.857656        2.321031  \n",
       "2         10                   A          NaN       48.857705        2.321061  \n",
       "3          8                   A          NaN       48.857722        2.321006  \n",
       "4          0                 NaN          NaN       48.890435        2.315289  "
      ]
     },
     "execution_count": 2,
     "metadata": {},
     "output_type": "execute_result"
    }
   ],
   "source": [
    "data = pd.read_csv(\"arbres-fr.csv\", sep=\";\")\n",
    "data.head()"
   ]
  },
  {
   "cell_type": "code",
   "execution_count": 3,
   "id": "a2989852",
   "metadata": {},
   "outputs": [
    {
     "data": {
      "text/plain": [
       "(200137, 18)"
      ]
     },
     "execution_count": 3,
     "metadata": {},
     "output_type": "execute_result"
    }
   ],
   "source": [
    "data.shape"
   ]
  },
  {
   "cell_type": "code",
   "execution_count": 4,
   "id": "581b643b",
   "metadata": {
    "scrolled": true
   },
   "outputs": [
    {
     "data": {
      "text/plain": [
       "Index(['id', 'type_emplacement', 'domanialite', 'arrondissement',\n",
       "       'complement_addresse', 'numero', 'lieu', 'id_emplacement',\n",
       "       'libelle_francais', 'genre', 'espece', 'variete', 'circonference_cm',\n",
       "       'hauteur_m', 'stade_developpement', 'remarquable', 'geo_point_2d_a',\n",
       "       'geo_point_2d_b'],\n",
       "      dtype='object')"
      ]
     },
     "execution_count": 4,
     "metadata": {},
     "output_type": "execute_result"
    }
   ],
   "source": [
    "data.columns"
   ]
  },
  {
   "cell_type": "markdown",
   "id": "865ff1d4",
   "metadata": {},
   "source": [
    "### We plot the percentage of different spicies of trees in Paris."
   ]
  },
  {
   "cell_type": "code",
   "execution_count": 5,
   "id": "aca488de",
   "metadata": {
    "scrolled": false
   },
   "outputs": [
    {
     "data": {
      "image/png": "[encoded data removed]",
      "text/plain": [
       "<Figure size 432x288 with 1 Axes>"
      ]
     },
     "metadata": {},
     "output_type": "display_data"
    }
   ],
   "source": [
    "data['espece'][0:5].value_counts().plot.pie(center=(0, 0), radius=1.0, autopct='%1.1f%%').set_title('Pieplot pour 5 premiers éléments de espece');"
   ]
  },
  {
   "cell_type": "code",
   "execution_count": 6,
   "id": "15e8965b",
   "metadata": {
    "scrolled": true
   },
   "outputs": [
    {
     "data": {
      "image/png": "[encoded data removed]",
      "text/plain": [
       "<Figure size 432x288 with 1 Axes>"
      ]
     },
     "metadata": {
      "needs_background": "light"
     },
     "output_type": "display_data"
    }
   ],
   "source": [
    "data['espece'][0:10].hist().set_title('Histogram pour 10 premiers éléments de espece');"
   ]
  },
  {
   "cell_type": "code",
   "execution_count": 7,
   "id": "8d5ab3fb",
   "metadata": {
    "scrolled": true
   },
   "outputs": [
    {
     "data": {
      "image/png": "[encoded data removed]",
      "text/plain": [
       "<Figure size 432x288 with 1 Axes>"
      ]
     },
     "metadata": {
      "needs_background": "light"
     },
     "output_type": "display_data"
    }
   ],
   "source": [
    "data['arrondissement'].value_counts().plot.bar().set_title('Bar Plot pour arrondissement for Raw data');"
   ]
  },
  {
   "cell_type": "code",
   "execution_count": 8,
   "id": "a2a3e3f0",
   "metadata": {},
   "outputs": [
    {
     "data": {
      "image/png": "[encoded data removed]",
      "text/plain": [
       "<Figure size 432x288 with 1 Axes>"
      ]
     },
     "metadata": {
      "needs_background": "light"
     },
     "output_type": "display_data"
    }
   ],
   "source": [
    "sns.kdeplot(data['hauteur_m']).set_title('Distribution Plot hauteur_m pour Raw data');"
   ]
  },
  {
   "cell_type": "code",
   "execution_count": 9,
   "id": "675e9d18",
   "metadata": {
    "scrolled": true
   },
   "outputs": [
    {
     "data": {
      "image/png": "[encoded data removed]",
      "text/plain": [
       "<Figure size 432x288 with 1 Axes>"
      ]
     },
     "metadata": {
      "needs_background": "light"
     },
     "output_type": "display_data"
    }
   ],
   "source": [
    "sns.kdeplot(data['circonference_cm']).set_title('Distribution Plot circonference_cm pour Raw data');"
   ]
  },
  {
   "cell_type": "code",
   "execution_count": 10,
   "id": "3cafc58b",
   "metadata": {},
   "outputs": [
    {
     "data": {
      "image/png": "[encoded data removed]",
      "text/plain": [
       "<Figure size 432x288 with 1 Axes>"
      ]
     },
     "metadata": {
      "needs_background": "light"
     },
     "output_type": "display_data"
    }
   ],
   "source": [
    "sns.boxplot(y='circonference_cm', data=data).set_title('Box Plot circonference_cm pour Raw data');"
   ]
  },
  {
   "cell_type": "markdown",
   "id": "7f8cfe58",
   "metadata": {},
   "source": [
    "### From the net we see that the maximum hieigt of the trees in Paris is 62.5 meters. So we fiter the data."
   ]
  },
  {
   "cell_type": "code",
   "execution_count": 11,
   "id": "44acd112",
   "metadata": {},
   "outputs": [],
   "source": [
    "data = data[data['hauteur_m']<= 62.5]"
   ]
  },
  {
   "cell_type": "code",
   "execution_count": 12,
   "id": "0abae182",
   "metadata": {},
   "outputs": [
    {
     "data": {
      "text/plain": [
       "count    199749.000000\n",
       "mean          8.347456\n",
       "std           6.260809\n",
       "min           0.000000\n",
       "25%           5.000000\n",
       "50%           8.000000\n",
       "75%          12.000000\n",
       "max          60.000000\n",
       "Name: hauteur_m, dtype: float64"
      ]
     },
     "execution_count": 12,
     "metadata": {},
     "output_type": "execute_result"
    }
   ],
   "source": [
    "data.hauteur_m.describe()"
   ]
  },
  {
   "cell_type": "code",
   "execution_count": 13,
   "id": "459adc96",
   "metadata": {},
   "outputs": [
    {
     "data": {
      "image/png": "[encoded data removed]",
      "text/plain": [
       "<Figure size 432x288 with 1 Axes>"
      ]
     },
     "metadata": {
      "needs_background": "light"
     },
     "output_type": "display_data"
    }
   ],
   "source": [
    "sns.kdeplot(data['hauteur_m']).set_title('Distribution Plot hauteur_m pour Clean data');"
   ]
  },
  {
   "cell_type": "code",
   "execution_count": 14,
   "id": "fa1a1d10",
   "metadata": {},
   "outputs": [
    {
     "data": {
      "image/png": "[encoded data removed]",
      "text/plain": [
       "<Figure size 432x288 with 1 Axes>"
      ]
     },
     "metadata": {
      "needs_background": "light"
     },
     "output_type": "display_data"
    }
   ],
   "source": [
    "sns.boxplot(y='hauteur_m', data=data).set_title('Box Plot hauteur_m pour Clean data');"
   ]
  },
  {
   "cell_type": "markdown",
   "id": "7be113b9",
   "metadata": {},
   "source": [
    "### From the net we see that the maximum circonference of the trees in Paris is 1300 cm. So we fiter the data in terms of circumference."
   ]
  },
  {
   "cell_type": "code",
   "execution_count": 15,
   "id": "a8273e8b",
   "metadata": {},
   "outputs": [],
   "source": [
    "df = data[data['circonference_cm']<= 1300]"
   ]
  },
  {
   "cell_type": "code",
   "execution_count": 16,
   "id": "a86d8fc3",
   "metadata": {
    "scrolled": true
   },
   "outputs": [
    {
     "data": {
      "image/png": "[encoded data removed]",
      "text/plain": [
       "<Figure size 432x288 with 1 Axes>"
      ]
     },
     "metadata": {
      "needs_background": "light"
     },
     "output_type": "display_data"
    }
   ],
   "source": [
    "sns.kdeplot(df['circonference_cm'], fill=True).set_title('Distribution Plot circonference_cm pour Clean data');"
   ]
  },
  {
   "cell_type": "code",
   "execution_count": 17,
   "id": "66779847",
   "metadata": {},
   "outputs": [
    {
     "data": {
      "image/png": "[encoded data removed]",
      "text/plain": [
       "<Figure size 432x288 with 1 Axes>"
      ]
     },
     "metadata": {
      "needs_background": "light"
     },
     "output_type": "display_data"
    }
   ],
   "source": [
    "sns.boxplot(y='circonference_cm', data=df).set_title('Box Plot circonference_cm pour Clean data');"
   ]
  },
  {
   "cell_type": "markdown",
   "id": "4a770b75",
   "metadata": {},
   "source": [
    "#### Also we get rid of the columns 'id', 'complement_addresse', 'numero', 'lieu', 'id_emplacement' as it is not ofany use to us."
   ]
  },
  {
   "cell_type": "code",
   "execution_count": 18,
   "id": "b735d2b7",
   "metadata": {},
   "outputs": [],
   "source": [
    "data = data.drop(['id', 'complement_addresse', 'numero', 'lieu', 'id_emplacement'], axis=1)"
   ]
  },
  {
   "cell_type": "code",
   "execution_count": 19,
   "id": "1f0361c0",
   "metadata": {},
   "outputs": [
    {
     "data": {
      "text/plain": [
       "Index(['type_emplacement', 'domanialite', 'arrondissement', 'libelle_francais',\n",
       "       'genre', 'espece', 'variete', 'circonference_cm', 'hauteur_m',\n",
       "       'stade_developpement', 'remarquable', 'geo_point_2d_a',\n",
       "       'geo_point_2d_b'],\n",
       "      dtype='object')"
      ]
     },
     "execution_count": 19,
     "metadata": {},
     "output_type": "execute_result"
    }
   ],
   "source": [
    "data.columns"
   ]
  },
  {
   "cell_type": "markdown",
   "id": "229bd8a0",
   "metadata": {},
   "source": [
    "### We have divided the tree database between heights 0 to 3 meters, 3 to 20 meters, 20 to 30 meters and over 30 meters. \n",
    "\n",
    "--First, we analyze the height from 0 to 3 meters compared to the PARIS 7E arrondissement"
   ]
  },
  {
   "cell_type": "code",
   "execution_count": 20,
   "id": "37d2b794",
   "metadata": {},
   "outputs": [],
   "source": [
    "d_1 = data[(data['hauteur_m']<=3) & (data['arrondissement']=='PARIS 7E ARRDT')]"
   ]
  },
  {
   "cell_type": "markdown",
   "id": "909d72e9",
   "metadata": {},
   "source": [
    "-- We analyze the height of trees between 3 and 20 meters in PARIS 7E arrodiment"
   ]
  },
  {
   "cell_type": "code",
   "execution_count": 21,
   "id": "7d8f37d0",
   "metadata": {},
   "outputs": [],
   "source": [
    "d_2 = data[(data['hauteur_m']>3) & (data['hauteur_m']<=20) & (data['arrondissement']=='PARIS 7E ARRDT')]"
   ]
  },
  {
   "cell_type": "markdown",
   "id": "cd6b32f8",
   "metadata": {},
   "source": [
    "-- We analyze the height of trees between 20 to 30 meters in PARIS 7E arrodiment"
   ]
  },
  {
   "cell_type": "code",
   "execution_count": 22,
   "id": "76eb6d3f",
   "metadata": {},
   "outputs": [],
   "source": [
    "d_3 = data[(data['hauteur_m']>20) & (data['hauteur_m']<=30) & (data['arrondissement']=='PARIS 7E ARRDT')]"
   ]
  },
  {
   "cell_type": "markdown",
   "id": "de2cdf14",
   "metadata": {},
   "source": [
    "-- We analyze the height of trees above 30 meters in PARIS 7E arrodiment"
   ]
  },
  {
   "cell_type": "code",
   "execution_count": 23,
   "id": "fda9a905",
   "metadata": {},
   "outputs": [],
   "source": [
    "d_4 = data[(data['hauteur_m']>30) & (data['arrondissement']=='PARIS 7E ARRDT')]"
   ]
  },
  {
   "cell_type": "markdown",
   "id": "6d11430f",
   "metadata": {},
   "source": [
    "### Now we want to find the places where the trees from 0 to 3 meters are located. For this we will use the folium module"
   ]
  },
  {
   "cell_type": "code",
   "execution_count": 24,
   "id": "2458fc69",
   "metadata": {},
   "outputs": [],
   "source": [
    "m_1 = folium.Map(location=[48.854863, 2.300805], zoom_start=15) "
   ]
  },
  {
   "cell_type": "code",
   "execution_count": 25,
   "id": "24f09253",
   "metadata": {},
   "outputs": [],
   "source": [
    "for i,row in d_1.iterrows():\n",
    "    geo_point_2d_a = d_1.at[i, 'geo_point_2d_a']\n",
    "    geo_point_2d_b = d_1.at[i, 'geo_point_2d_b']\n",
    "    espece = d_1.at[i, 'espece']\n",
    "    folium.Marker(location=[geo_point_2d_a, geo_point_2d_b], popup=espece, icon=folium.Icon(color='red')).add_to(m_1)"
   ]
  },
  {
   "cell_type": "code",
   "execution_count": 26,
   "id": "7ddce52c",
   "metadata": {},
   "outputs": [],
   "source": [
    "m_1.save('m_1.html')"
   ]
  },
  {
   "cell_type": "markdown",
   "id": "38e4de25",
   "metadata": {},
   "source": [
    "#### Now we want to find the places where the trees from 3 to 20 meters are located."
   ]
  },
  {
   "cell_type": "code",
   "execution_count": 27,
   "id": "48ab5364",
   "metadata": {},
   "outputs": [],
   "source": [
    "m_2 = folium.Map(location=[48.857620, 2.320962], zoom_start=15) "
   ]
  },
  {
   "cell_type": "code",
   "execution_count": 28,
   "id": "e737aad9",
   "metadata": {},
   "outputs": [],
   "source": [
    "for i,row in d_2.iterrows():\n",
    "    geo_point_2d_a = d_2.at[i, 'geo_point_2d_a']\n",
    "    geo_point_2d_b = d_2.at[i, 'geo_point_2d_b']\n",
    "    espece = d_2.at[i, 'espece']\n",
    "    folium.Marker(location=[geo_point_2d_a, geo_point_2d_b], popup=espece, icon=folium.Icon(color='green')).add_to(m_2)"
   ]
  },
  {
   "cell_type": "code",
   "execution_count": 29,
   "id": "e5c58c9f",
   "metadata": {},
   "outputs": [],
   "source": [
    "m_2.save('m_2.html')"
   ]
  },
  {
   "cell_type": "markdown",
   "id": "2d59867b",
   "metadata": {},
   "source": [
    "####  Now we want to find the places where the trees from 20 to 30 meters are located."
   ]
  },
  {
   "cell_type": "code",
   "execution_count": 30,
   "id": "2ecf0954",
   "metadata": {},
   "outputs": [],
   "source": [
    "m_3 = folium.Map(location=[48.857453, 2.320804], zoom_start=15) "
   ]
  },
  {
   "cell_type": "code",
   "execution_count": 31,
   "id": "5057c04f",
   "metadata": {},
   "outputs": [],
   "source": [
    "for i,row in d_3.iterrows():\n",
    "    geo_point_2d_a = d_3.at[i, 'geo_point_2d_a']\n",
    "    geo_point_2d_b = d_3.at[i, 'geo_point_2d_b']\n",
    "    espece = d_3.at[i, 'espece']\n",
    "    folium.Marker(location=[geo_point_2d_a, geo_point_2d_b], popup=espece, icon=folium.Icon(color='blue')).add_to(m_3)"
   ]
  },
  {
   "cell_type": "code",
   "execution_count": 32,
   "id": "2bdbfeaf",
   "metadata": {},
   "outputs": [],
   "source": [
    "m_3.save('m_3.html')"
   ]
  },
  {
   "cell_type": "code",
   "execution_count": 33,
   "id": "ec02343a",
   "metadata": {},
   "outputs": [],
   "source": [
    "m_4 = folium.Map(location=[48.854385, 2.310478], zoom_start=15) "
   ]
  },
  {
   "cell_type": "code",
   "execution_count": 34,
   "id": "3884b9a5",
   "metadata": {},
   "outputs": [],
   "source": [
    "for i,row in d_4.iterrows():\n",
    "    geo_point_2d_a = d_4.at[i, 'geo_point_2d_a']\n",
    "    geo_point_2d_b = d_4.at[i, 'geo_point_2d_b']\n",
    "    espece = d_4.at[i, 'espece']\n",
    "    folium.Marker(location=[geo_point_2d_a, geo_point_2d_b], popup=espece, icon=folium.Icon(color='purple')).add_to(m_4)"
   ]
  },
  {
   "cell_type": "code",
   "execution_count": 35,
   "id": "bda93d83",
   "metadata": {},
   "outputs": [],
   "source": [
    "m_4.save('m_4.html')"
   ]
  },
  {
   "cell_type": "code",
   "execution_count": null,
   "id": "f5a7538b",
   "metadata": {},
   "outputs": [],
   "source": []
  }
 ],
 "metadata": {
  "kernelspec": {
   "display_name": "Python 3 (ipykernel)",
   "language": "python",
   "name": "python3"
  },
  "language_info": {
   "codemirror_mode": {
    "name": "ipython",
    "version": 3
   },
   "file_extension": ".py",
   "mimetype": "text/x-python",
   "name": "python",
   "nbconvert_exporter": "python",
   "pygments_lexer": "ipython3",
   "version": "3.8.11"
  }
 },
 "nbformat": 4,
 "nbformat_minor": 5
}
